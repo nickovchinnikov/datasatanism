{
 "cells": [
  {
   "cell_type": "markdown",
   "metadata": {},
   "source": [
    "## Initialization"
   ]
  },
  {
   "cell_type": "code",
   "execution_count": 28,
   "metadata": {},
   "outputs": [],
   "source": [
    "import numpy as np\n",
    "import matplotlib.pyplot as plt\n",
    "\n",
    "from dataclasses import dataclass\n",
    "from typing import List, Literal, Tuple\n",
    "\n",
    "\n",
    "@dataclass\n",
    "class Parameter:\n",
    "    name: str\n",
    "    data: np.ndarray\n",
    "    grad: np.ndarray\n",
    "\n",
    "\n",
    "class Module:\n",
    "    def __call__(self, *args, **kwargs):\n",
    "        return self.forward(*args, **kwargs)\n",
    "        \n",
    "    def forward(self, *args, **kwargs):\n",
    "        raise NotImplementedError\n",
    "\n",
    "    def backward(self, *args, **kwargs):\n",
    "        raise NotImplementedError\n",
    "    \n",
    "    def parameters(self) -> List[Parameter]:\n",
    "        return []\n",
    "\n",
    "    def zero_grad(self):\n",
    "        for param in self.parameters():\n",
    "            param.grad.fill(0)\n",
    "\n",
    "\n",
    "# Define a custom type alias for initialization methods\n",
    "InitMethod = Literal[\"xavier\", \"he\", \"he_leaky\", \"normal\", \"uniform\"]\n",
    "\n",
    "def parameter(\n",
    "    input_size: int,\n",
    "    output_size: int,\n",
    "    init_method: InitMethod = \"xavier\",\n",
    "    gain: float = 1,\n",
    "    alpha: float = 0.01\n",
    ") -> np.ndarray:\n",
    "    weights = np.random.randn(input_size, output_size)\n",
    "\n",
    "    if init_method == \"xavier\":\n",
    "        std = gain * np.sqrt(1.0 / input_size)\n",
    "        return std * weights\n",
    "    if init_method == \"he\":\n",
    "        std = gain * np.sqrt(2.0 / input_size)\n",
    "        return std * weights\n",
    "    if init_method == \"he_leaky\":\n",
    "        std = gain * np.sqrt(2.0 / (1 + alpha**2) * (1 / input_size))\n",
    "        return std * weights\n",
    "    if init_method == \"normal\":\n",
    "        return gain * weights\n",
    "    if init_method == \"uniform\":\n",
    "        return gain * np.random.uniform(-1, 1, size=(input_size, output_size))\n",
    "\n",
    "    raise ValueError(f\"Unknown initialization method: {init_method}\")\n",
    "\n",
    "\n",
    "class Linear(Module):\n",
    "    def __init__(\n",
    "        self,\n",
    "        input_size: int,\n",
    "        output_size: int,\n",
    "        init_method: InitMethod = \"xavier\"\n",
    "    ):\n",
    "        self.input: np.ndarray = None\n",
    "\n",
    "        self.weights: np.ndarray = parameter(input_size, output_size, init_method)\n",
    "        self.d_weights: np.ndarray = np.zeros_like(self.weights)\n",
    "\n",
    "        self.biases: np.ndarray = np.zeros((1, output_size))\n",
    "        self.d_biases: np.ndarray = np.zeros_like(self.biases)\n",
    "\n",
    "    def forward(self, x: np.ndarray) -> np.ndarray:\n",
    "        self.input = x\n",
    "        x1 = x @ self.weights + self.biases\n",
    "        return x1\n",
    "    \n",
    "    def backward(self, d_out: np.ndarray) -> np.ndarray:\n",
    "        self.d_weights = self.input.T @ d_out\n",
    "        self.d_biases = np.sum(d_out, axis=0, keepdims=True)\n",
    "\n",
    "        return d_out @ self.weights.T\n",
    "\n",
    "    def parameters(self):\n",
    "        return [\n",
    "            Parameter(\n",
    "                name=\"weights\",\n",
    "                data=self.weights,\n",
    "                grad=self.d_weights\n",
    "            ),\n",
    "            Parameter(\n",
    "                name=\"biases\",\n",
    "                data=self.biases,\n",
    "                grad=self.d_biases\n",
    "            ),\n",
    "        ]\n",
    "\n",
    "\n",
    "class BCELoss(Module):\n",
    "    def forward(\n",
    "        self, pred: np.ndarray, target: np.ndarray, epsilon: float = 1e-7\n",
    "    ) -> np.ndarray:        \n",
    "        loss = -(\n",
    "            target * np.log(pred + epsilon) + \n",
    "            (1 - target) * np.log(1 - pred + epsilon)\n",
    "        )\n",
    "\n",
    "        return np.mean(loss)\n",
    "\n",
    "    def backward(\n",
    "        self, pred: np.ndarray, target: np.ndarray, epsilon: float = 1e-7\n",
    "    ) -> np.ndarray:\n",
    "        grad = (pred - target) / (pred * (1 - pred) + epsilon)\n",
    "        return grad\n",
    "\n",
    "\n",
    "class Sigmoid(Module):\n",
    "    def forward(self, x: np.ndarray):\n",
    "        # Apply the Sigmoid function element-wise\n",
    "        self.output = 1 / (1 + np.exp(-x))\n",
    "        return self.output\n",
    "\n",
    "    def backward(self, d_out: np.ndarray):\n",
    "        # Derivative of the Sigmoid function: sigmoid * (1 - sigmoid)\n",
    "        ds = self.output * (1 - self.output)\n",
    "        return d_out * ds\n",
    "\n",
    "\n",
    "class LeakyReLU(Module):\n",
    "    def __init__(self, alpha: float = 0.01):\n",
    "        self.alpha = alpha\n",
    "\n",
    "    def forward(self, x: np.ndarray):\n",
    "        self.input = x\n",
    "        return np.where(x > 0, x, self.alpha * x)\n",
    "\n",
    "    def backward(self, d_out: np.ndarray):\n",
    "        dx = np.ones_like(self.input)\n",
    "        dx[self.input < 0] = self.alpha\n",
    "        return d_out * dx\n",
    "\n",
    "\n",
    "class Sequential(Module):\n",
    "    def __init__(self, layers: List[Module]):\n",
    "        self.layers = layers\n",
    "\n",
    "    def forward(self, x: np.ndarray) -> np.ndarray:\n",
    "        for layer in self.layers:\n",
    "            x = layer.forward(x)\n",
    "        return x\n",
    "\n",
    "    def backward(self, d_out: np.ndarray, lr: float = 0.001) -> np.ndarray:\n",
    "        for layer in reversed(self.layers):\n",
    "            d_out = layer.backward(d_out)\n",
    "        return d_out\n",
    "\n",
    "    def parameters(self) -> List[Parameter]:\n",
    "        params = []\n",
    "        for i, layer in enumerate(self.layers):\n",
    "            for param in layer.parameters():\n",
    "                # Add unique prefix name for optimization step\n",
    "                param.name = f\"layer_{i}_{param.name}\"\n",
    "                params.append(param)\n",
    "        return params\n",
    "\n",
    "\n",
    "class SGD:\n",
    "    def __init__(\n",
    "        self,\n",
    "        lr: float = 0.01,\n",
    "        momentum: float = 0.0,\n",
    "        clip_value: float = 1.0\n",
    "    ):\n",
    "        self.lr = lr\n",
    "        self.momentum = momentum\n",
    "        self.clip_value = clip_value\n",
    "        self.velocity = {}\n",
    "\n",
    "    def step(self, module: Module):\n",
    "        for param in module.parameters():\n",
    "            param_id = param.name\n",
    "\n",
    "            # Init velocity if not exists\n",
    "            if param_id not in self.velocity:\n",
    "                self.velocity[param_id] = np.zeros_like(param.data)\n",
    "\n",
    "            grad = param.grad.copy()\n",
    "\n",
    "            # Gradient cliping\n",
    "            if self.clip_value > 0:\n",
    "                np.clip(grad, -self.clip_value, self.clip_value, out=grad)\n",
    "\n",
    "            # Update momentum\n",
    "            self.velocity[param_id] = (\n",
    "                self.momentum * self.velocity[param_id] +\n",
    "                (1 - self.momentum) * grad\n",
    "            )\n",
    "\n",
    "            # Update parameters\n",
    "            param.data -= self.lr * self.velocity[param_id]\n",
    "\n"
   ]
  },
  {
   "cell_type": "markdown",
   "metadata": {},
   "source": [
    "## Fashion-MNIST"
   ]
  },
  {
   "cell_type": "code",
   "execution_count": 29,
   "metadata": {},
   "outputs": [
    {
     "data": {
      "image/png": "[encoded data removed]",
      "text/plain": [
       "<Figure size 1000x600 with 15 Axes>"
      ]
     },
     "metadata": {},
     "output_type": "display_data"
    }
   ],
   "source": [
    "import matplotlib.pyplot as plt\n",
    "from sklearn.datasets import fetch_openml\n",
    "\n",
    "# Fetch the Fashion MNIST dataset from OpenML\n",
    "fashion_mnist = fetch_openml('Fashion-MNIST', version=1, as_frame=False)\n",
    "\n",
    "# Separate the features (images) and labels\n",
    "X, y = fashion_mnist['data'], fashion_mnist['target']\n",
    "\n",
    "# Convert labels to integers (since OpenML may return them as strings)\n",
    "y = y.astype(int)\n",
    "\n",
    "\n",
    "# Define label names for Fashion MNIST classes\n",
    "label_names = [\n",
    "    \"T-shirt/top\", \"Trouser\", \"Pullover\", \"Dress\", \"Coat\",\n",
    "    \"Sandal\", \"Shirt\", \"Sneaker\", \"Bag\", \"Ankle boot\"\n",
    "]\n",
    "\n",
    "# Plot some sample images\n",
    "fig, axes = plt.subplots(3, 5, figsize=(10, 6))\n",
    "axes = axes.ravel()\n",
    "\n",
    "for i in range(15):\n",
    "    img = X[i].reshape(28, 28)  # Reshape the 1D array into a 28x28 image\n",
    "    axes[i].imshow(img, cmap='gray')  # Display in grayscale\n",
    "    axes[i].set_title(label_names[y[i]])  # Set label as title\n",
    "    axes[i].axis('off')  # Hide axis\n",
    "\n",
    "plt.tight_layout()\n",
    "plt.show()"
   ]
  },
  {
   "cell_type": "code",
   "execution_count": 30,
   "metadata": {},
   "outputs": [
    {
     "data": {
      "text/plain": [
       "((56000, 784), (14000, 784))"
      ]
     },
     "execution_count": 30,
     "metadata": {},
     "output_type": "execute_result"
    }
   ],
   "source": [
    "from sklearn.model_selection import train_test_split\n",
    "\n",
    "# Train/test split\n",
    "X_train, X_test, y_train, y_test = train_test_split(\n",
    "    X, y, test_size=0.2, random_state=1\n",
    ")\n",
    "\n",
    "X_train.shape, X_test.shape"
   ]
  },
  {
   "cell_type": "code",
   "execution_count": 31,
   "metadata": {},
   "outputs": [],
   "source": [
    "# Convert labels to one-hot encoding\n",
    "num_classes = 10\n",
    "\n",
    "y_train_one_hot = np.eye(num_classes)[y_train]\n",
    "y_test_one_hot = np.eye(num_classes)[y_test]"
   ]
  },
  {
   "cell_type": "markdown",
   "metadata": {},
   "source": [
    "## Data preprocessing"
   ]
  },
  {
   "cell_type": "code",
   "execution_count": 32,
   "metadata": {},
   "outputs": [],
   "source": [
    "from sklearn.preprocessing import MinMaxScaler\n",
    "\n",
    "# Rescale\n",
    "scaler = MinMaxScaler()\n",
    "X_train = scaler.fit_transform(X_train)\n",
    "X_test = scaler.transform(X_test)\n"
   ]
  },
  {
   "cell_type": "markdown",
   "metadata": {},
   "source": [
    "## CrossEntropyLoss and Softmax"
   ]
  },
  {
   "cell_type": "markdown",
   "metadata": {},
   "source": [
    "### Cross-Entropy Loss\n",
    "\n",
    "$$L = -\\sum_{i} y_i \\log(S_i)$$\n",
    "\n",
    "and its gradient **after softmax** is simply:\n",
    "\n",
    "$$\\frac{\\partial L}{\\partial z} = S - y$$"
   ]
  },
  {
   "cell_type": "code",
   "execution_count": 33,
   "metadata": {},
   "outputs": [],
   "source": [
    "class CrossEntropyLoss(Module):\n",
    "    def forward(self, pred: np.ndarray, target: np.ndarray, eps: float = 1e-7):\n",
    "        pred = np.clip(pred, eps, 1.0 - eps)\n",
    "        loss = -np.sum(target * np.log(pred), axis=1)\n",
    "        return np.mean(loss)\n",
    "    \n",
    "    def backward(self, pred: np.ndarray, target: np.ndarray, eps: float = 1e-7):\n",
    "        pred = np.clip(pred, eps, 1.0 - eps)\n",
    "        grad = pred - target\n",
    "        return grad"
   ]
  },
  {
   "cell_type": "markdown",
   "metadata": {},
   "source": [
    "### Softmax\n",
    "\n",
    "$$S_i = \\frac{e^{z_i}}{\\sum_{j} e^{z_j}}$$\n",
    "\n",
    "But with the Cross-Entropy its derivative: \n",
    "\n",
    "$$\\frac{\\partial L}{\\partial z_i} = S_i \\left( d_{\\text{out}_i} - \\sum_j d_{\\text{out}_j} S_j \\right)$$"
   ]
  },
  {
   "cell_type": "code",
   "execution_count": 34,
   "metadata": {},
   "outputs": [],
   "source": [
    "class Softmax(Module):\n",
    "    def forward(self, x: np.ndarray):\n",
    "        exp_x = np.exp(x - np.max(x, axis=1, keepdims=True))\n",
    "        self.output = exp_x / np.sum(exp_x, axis=1, keepdims=True)\n",
    "        return self.output\n",
    "    \n",
    "    def backward(self, d_out: np.ndarray):\n",
    "        return self.output * (d_out - np.sum(d_out * self.output, axis=1, keepdims=True))"
   ]
  },
  {
   "cell_type": "markdown",
   "metadata": {},
   "source": [
    "## Build a model with SGD"
   ]
  },
  {
   "cell_type": "code",
   "execution_count": 35,
   "metadata": {},
   "outputs": [],
   "source": [
    "input_dims = 784\n",
    "\n",
    "model = Sequential([\n",
    "    Linear(input_dims, input_dims, init_method=\"he_leaky\"),\n",
    "    LeakyReLU(),\n",
    "    Linear(input_dims, 256, init_method=\"he_leaky\"),\n",
    "    LeakyReLU(),\n",
    "    Linear(256, 128, init_method=\"he_leaky\"),\n",
    "    LeakyReLU(),\n",
    "    Linear(128, 10, init_method=\"he_leaky\"),\n",
    "    Softmax()\n",
    "])\n",
    "\n",
    "ce_loss = CrossEntropyLoss()\n",
    "optimizer = SGD(lr=0.01, momentum=0.9)"
   ]
  },
  {
   "cell_type": "markdown",
   "metadata": {},
   "source": [
    "## Training loop"
   ]
  },
  {
   "cell_type": "code",
   "execution_count": 37,
   "metadata": {},
   "outputs": [
    {
     "name": "stdout",
     "output_type": "stream",
     "text": [
      "Epoch 1/20, Loss: 0.6390\n",
      "Epoch 2/20, Loss: 0.4264\n",
      "Epoch 3/20, Loss: 0.3772\n",
      "Epoch 4/20, Loss: 0.3631\n",
      "Epoch 5/20, Loss: 0.3396\n",
      "Epoch 6/20, Loss: 0.3292\n",
      "Epoch 7/20, Loss: 0.3159\n",
      "Epoch 8/20, Loss: 0.3036\n",
      "Epoch 9/20, Loss: 0.2969\n",
      "Epoch 10/20, Loss: 0.2877\n",
      "Epoch 11/20, Loss: 0.2782\n",
      "Epoch 12/20, Loss: 0.2725\n",
      "Epoch 13/20, Loss: 0.2665\n",
      "Epoch 14/20, Loss: 0.2591\n",
      "Epoch 15/20, Loss: 0.2570\n",
      "Epoch 16/20, Loss: 0.2516\n",
      "Epoch 17/20, Loss: 0.2477\n",
      "Epoch 18/20, Loss: 0.2380\n",
      "Epoch 19/20, Loss: 0.2408\n",
      "Epoch 20/20, Loss: 0.2300\n"
     ]
    }
   ],
   "source": [
    "# Hyperparameters\n",
    "epochs = 20\n",
    "batch_size = 128\n",
    "\n",
    "for epoch in range(epochs):\n",
    "    indices = np.random.permutation(X_train.shape[0])\n",
    "    X_train_shuffled, y_train_shuffled = X_train[indices], y_train_one_hot[indices]\n",
    "\n",
    "    total_loss = 0\n",
    "    num_batches = X_train.shape[0] // batch_size\n",
    "\n",
    "    for i in range(0, X_train.shape[0], batch_size):\n",
    "        X_batch = X_train_shuffled[i:i+batch_size]\n",
    "        y_batch = y_train_shuffled[i:i+batch_size]\n",
    "\n",
    "        # Forward pass\n",
    "        pred = model(X_batch)\n",
    "        loss = ce_loss(pred, y_batch)\n",
    "\n",
    "        # Zero grad!\n",
    "        model.zero_grad()\n",
    "\n",
    "        # Backward pass\n",
    "        d_loss = ce_loss.backward(pred, y_batch)\n",
    "        model.backward(d_loss)\n",
    "\n",
    "        # Update weights\n",
    "        optimizer.step(model)\n",
    "\n",
    "        total_loss += loss\n",
    "\n",
    "    # Compute avg loss\n",
    "    avg_loss = total_loss / num_batches\n",
    "    print(f\"Epoch {epoch+1}/{epochs}, Loss: {avg_loss:.4f}\")"
   ]
  },
  {
   "cell_type": "code",
   "execution_count": null,
   "metadata": {},
   "outputs": [
    {
     "name": "stdout",
     "output_type": "stream",
     "text": [
      "Train Accuracy: 93.40%\n"
     ]
    }
   ],
   "source": [
    "from sklearn.metrics import accuracy_score\n",
    "\n",
    "y_pred = model(X_train)\n",
    "y_pred_labels = np.argmax(y_pred, axis=1)\n",
    "accuracy = accuracy_score(y_train, y_pred_labels)\n",
    "\n",
    "print(f\"Train Accuracy: {accuracy * 100:.2f}%\")"
   ]
  },
  {
   "cell_type": "code",
   "execution_count": null,
   "metadata": {},
   "outputs": [
    {
     "name": "stdout",
     "output_type": "stream",
     "text": [
      "Test Accuracy: 89.41%\n"
     ]
    }
   ],
   "source": [
    "y_pred = model(X_test)\n",
    "y_pred_labels = np.argmax(y_pred, axis=1)\n",
    "accuracy = accuracy_score(y_test, y_pred_labels)\n",
    "\n",
    "print(f\"Test Accuracy: {accuracy * 100:.2f}%\")"
   ]
  }
 ],
 "metadata": {
  "kernelspec": {
   "display_name": "base",
   "language": "python",
   "name": "python3"
  },
  "language_info": {
   "codemirror_mode": {
    "name": "ipython",
    "version": 3
   },
   "file_extension": ".py",
   "mimetype": "text/x-python",
   "name": "python",
   "nbconvert_exporter": "python",
   "pygments_lexer": "ipython3",
   "version": "3.12.4"
  }
 },
 "nbformat": 4,
 "nbformat_minor": 2
}
