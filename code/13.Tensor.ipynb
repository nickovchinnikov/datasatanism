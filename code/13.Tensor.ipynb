{
 "cells": [
  {
   "cell_type": "markdown",
   "metadata": {},
   "source": [
    "### Imports and Type Definitons"
   ]
  },
  {
   "cell_type": "code",
   "execution_count": 1,
   "metadata": {},
   "outputs": [],
   "source": [
    "from dataclasses import dataclass\n",
    "from typing import Union, List, Callable, Optional\n",
    "\n",
    "import numpy as np\n",
    "\n",
    "Scalar = Union[int, float]\n",
    "\n",
    "Data = Union[Scalar, list, np.ndarray]\n",
    "\n",
    "\n",
    "@dataclass(frozen=True)\n",
    "class Leaf:\n",
    "    value: \"Tensor\"\n",
    "    grad_fn: Callable[[np.ndarray], np.ndarray]\n",
    "\n",
    "\n",
    "class Tensor:\n",
    "    def __init__(\n",
    "        self,\n",
    "        data: Data,\n",
    "        requires_grad: bool = False,\n",
    "        dependencies: Optional[List[Leaf]] = None,\n",
    "        dtype=np.float32\n",
    "    ):\n",
    "        self._data = Tensor.build_ndarray(data, dtype)\n",
    "        self.requires_grad = requires_grad\n",
    "        self.dependencies = dependencies or []\n",
    "        self.dtype = dtype\n",
    "        self.grad = np.zeros_like(self._data) if requires_grad else None\n",
    "\n",
    "    @property\n",
    "    def data(self) -> np.ndarray:\n",
    "        return self._data\n",
    "\n",
    "    @data.setter\n",
    "    def data(self, data: Data):\n",
    "        self._data = Tensor.build_ndarray(data)\n",
    "        if self.requires_grad:\n",
    "            self.zero_grad()\n",
    "\n",
    "    @property\n",
    "    def size(self) -> int:\n",
    "        return self.data.size\n",
    "\n",
    "    @property\n",
    "    def shape(self) -> int:\n",
    "        return self.data.shape\n",
    "\n",
    "    @property\n",
    "    def ndim(self) -> int:\n",
    "        return self.data.ndim\n",
    "\n",
    "    @staticmethod\n",
    "    def build_ndarray(data: Data, dtype=np.float32) -> np.ndarray:\n",
    "        if isinstance(data, Tensor):\n",
    "            return np.array(data.data, dtype=dtype)\n",
    "        if isinstance(data, np.ndarray):\n",
    "            return data.astype(dtype)\n",
    "        return np.array(data, dtype=dtype)\n",
    "    \n",
    "    def __repr__(self):\n",
    "        return f\"Tensor({self.data}, requires_grad={self.requires_grad}, shape={self.shape})\"\n",
    "    \n",
    "    def zero_grad(self):\n",
    "        if self.grad is None:\n",
    "            self.grad = np.zeros_like(self._data)\n",
    "        else:\n",
    "            self.grad.fill(0.0)\n"
   ]
  },
  {
   "cell_type": "code",
   "execution_count": 9,
   "metadata": {},
   "outputs": [
    {
     "data": {
      "text/plain": [
       "(3,)"
      ]
     },
     "execution_count": 9,
     "metadata": {},
     "output_type": "execute_result"
    }
   ],
   "source": [
    "t = Tensor([1, 2, 3], requires_grad=False)\n",
    "t.data = [1, 3, 5]\n",
    "t.shape"
   ]
  }
 ],
 "metadata": {
  "kernelspec": {
   "display_name": "cupy_env",
   "language": "python",
   "name": "python3"
  },
  "language_info": {
   "codemirror_mode": {
    "name": "ipython",
    "version": 3
   },
   "file_extension": ".py",
   "mimetype": "text/x-python",
   "name": "python",
   "nbconvert_exporter": "python",
   "pygments_lexer": "ipython3",
   "version": "3.11.11"
  }
 },
 "nbformat": 4,
 "nbformat_minor": 2
}
