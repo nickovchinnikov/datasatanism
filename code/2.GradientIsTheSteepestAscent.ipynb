{
 "cells": [
  {
   "cell_type": "markdown",
   "metadata": {},
   "source": [
    "# Visualizing the Gradient Field"
   ]
  },
  {
   "cell_type": "code",
   "execution_count": 1,
   "metadata": {},
   "outputs": [
    {
     "data": {
      "application/vnd.jupyter.widget-view+json": {
       "model_id": "09a4d69e16b74944ac5eb7c2fc8157f8",
       "version_major": 2,
       "version_minor": 0
      },
      "text/plain": [
       "interactive(children=(IntSlider(value=10, description='Grid Density', max=30, min=5), FloatSlider(value=20.0, …"
      ]
     },
     "metadata": {},
     "output_type": "display_data"
    },
    {
     "data": {
      "text/plain": [
       "<function __main__.plot_gradient_field(density=10, arrow_scale=20)>"
      ]
     },
     "execution_count": 1,
     "metadata": {},
     "output_type": "execute_result"
    }
   ],
   "source": [
    "import numpy as np\n",
    "import matplotlib.pyplot as plt\n",
    "from ipywidgets import interact, IntSlider, FloatSlider\n",
    "\n",
    "\n",
    "def f2d(x, y):\n",
    "    r\"\"\"\n",
    "    3d Paraboloid function $f(x, y) = x^2 + y^2$.\n",
    "\n",
    "    Args:\n",
    "    x: x coordinate\n",
    "    y: y coordinate\n",
    "\n",
    "    Returns:\n",
    "    Value of the function at point (x, y)\n",
    "    \"\"\"\n",
    "    return x**2 + y**2\n",
    "\n",
    "\n",
    "def grad_f2d(x, y):\n",
    "    \"\"\"\n",
    "    Gradient of the function $f(x, y) = x^2 + y^2$.\n",
    "\n",
    "    Args:\n",
    "    x: x coordinate\n",
    "    y: y coordinate\n",
    "\n",
    "    Returns:\n",
    "    Gradient of the function at point (x, y)\n",
    "    \"\"\"\n",
    "    return np.array([2*x, 2*y])\n",
    "\n",
    "\n",
    "def plot_gradient_field(density=10, arrow_scale=20):\n",
    "    r\"\"\"\n",
    "    Plot the gradient field of the function $f(x, y) = x^2 + y^2$.\n",
    "\n",
    "    Args:\n",
    "    density: density of the grid\n",
    "    arrow_scale: scale of the arrows\n",
    "    \"\"\"\n",
    "    # Create the x/y grid\n",
    "    x = np.linspace(-5, 5, density)\n",
    "    y = np.linspace(-5, 5, density)\n",
    "\n",
    "    # Create the meshgrid X/Y\n",
    "    X, Y = np.meshgrid(x, y)\n",
    "    # Compute the function values\n",
    "    Z = f2d(X, Y)\n",
    "\n",
    "    # Create the figure and subplots\n",
    "    fig, (ax1, ax2) = plt.subplots(1, 2, figsize=(20, 8))\n",
    "\n",
    "    # 3D surface plot\n",
    "    ax1 = fig.add_subplot(121, projection='3d')\n",
    "    ax1.plot_surface(X, Y, Z, cmap='viridis', alpha=0.8)\n",
    "    ax1.set_xlabel('X')\n",
    "    ax1.set_ylabel('Y')\n",
    "    ax1.set_zlabel('Z')\n",
    "    ax1.set_title('3D Surface Plot')\n",
    "\n",
    "    # 2D contour plot with gradient field\n",
    "    ax2.contourf(X, Y, Z, levels=20, cmap='viridis')\n",
    "    \n",
    "    # Compute the gradient\n",
    "    U, V = grad_f2d(X, Y)\n",
    "    # Plot the gradient field\n",
    "    ax2.quiver(X, Y, U, V, scale=arrow_scale, scale_units='inches', color='w', alpha=0.7)\n",
    "    \n",
    "    ax2.set_xlabel('X')\n",
    "    ax2.set_ylabel('Y')\n",
    "    ax2.set_title('Gradient Field')\n",
    "\n",
    "    plt.tight_layout()\n",
    "    plt.close(fig)\n",
    "    return fig\n",
    "\n",
    "# Create interactive plot\n",
    "interact(plot_gradient_field, \n",
    "         density=IntSlider(min=5, max=30, step=1, value=10, description='Grid Density'),\n",
    "         arrow_scale=FloatSlider(min=1, max=100, step=1, value=20, description='Arrow Scale'))\n"
   ]
  }
 ],
 "metadata": {
  "kernelspec": {
   "display_name": "base",
   "language": "python",
   "name": "python3"
  },
  "language_info": {
   "codemirror_mode": {
    "name": "ipython",
    "version": 3
   },
   "file_extension": ".py",
   "mimetype": "text/x-python",
   "name": "python",
   "nbconvert_exporter": "python",
   "pygments_lexer": "ipython3",
   "version": "3.12.4"
  }
 },
 "nbformat": 4,
 "nbformat_minor": 2
}
