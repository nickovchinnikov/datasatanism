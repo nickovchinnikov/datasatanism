{
 "cells": [
  {
   "cell_type": "markdown",
   "metadata": {},
   "source": [
    "# Tangent Line Equation Formula\n",
    "\n",
    "## $y−f(x_0)=f'(x_0)(x−x_0) $\n",
    "## $y=f(x_0) + f'(x_0)(x−x_0)$"
   ]
  },
  {
   "cell_type": "code",
   "execution_count": 3,
   "metadata": {},
   "outputs": [
    {
     "data": {
      "application/vnd.jupyter.widget-view+json": {
       "model_id": "07a3003d4bf5434599d3d0a359ee6598",
       "version_major": 2,
       "version_minor": 0
      },
      "text/plain": [
       "interactive(children=(FloatSlider(value=0.0, description='x0', max=10.0, min=-10.0), Output()), _dom_classes=(…"
      ]
     },
     "metadata": {},
     "output_type": "display_data"
    },
    {
     "data": {
      "text/plain": [
       "<function __main__.interactive_plot.<locals>._interactive_plot(x0)>"
      ]
     },
     "execution_count": 3,
     "metadata": {},
     "output_type": "execute_result"
    }
   ],
   "source": [
    "import numpy as np\n",
    "import matplotlib.pyplot as plt\n",
    "from ipywidgets import interact\n",
    "\n",
    "\n",
    "def f(x):\n",
    "    return -x**2\n",
    "\n",
    "\n",
    "def cdiff(f, x, h=1e-3):\n",
    "    return (f(x + h) - f(x - h)) / (2 * h)\n",
    "\n",
    "\n",
    "def tangent_line(f, x, x0):\n",
    "    fx0 = f(x0)\n",
    "    dfx0 = cdiff(f, x0)\n",
    "\n",
    "    return fx0 + dfx0 * (x - x0)\n",
    "\n",
    "\n",
    "def interactive_plot(f, x):\n",
    "    def _interactive_plot(x0):\n",
    "        y = f(x)\n",
    "        # Slope\n",
    "        slope = cdiff(f, x0)\n",
    "        # Compute y values for the tangent line in 0 point\n",
    "        y_tangent = tangent_line(f, x, x0)\n",
    "\n",
    "        # Plotting\n",
    "        plt.figure(figsize=(12, 6))\n",
    "        plt.plot(x, y, label=\"$f(x) = x^2$\")\n",
    "        plt.plot(x, y_tangent, label=f\"Slope: {slope}\")\n",
    "        # Add the dot\n",
    "        plt.plot(x0, f(x0), 'ro', markersize=8)\n",
    "\n",
    "        # Limits\n",
    "        plt.xlim(-10, 10)\n",
    "        plt.ylim(-100, 10)\n",
    "\n",
    "        plt.xlabel('x')\n",
    "        plt.ylabel('y')\n",
    "        plt.title(f'$f(x) = x^2$; Tangent line $f\\'(x)=2x$ at x={x0:.2f}, f\\'(x={x0:.2f}) = {2*x0:.2f}')\n",
    "        plt.legend()\n",
    "        plt.grid(True)\n",
    "\n",
    "    return _interactive_plot\n",
    "\n",
    "x = np.linspace(-10, 10, 200)\n",
    "\n",
    "interact(interactive_plot(f, x), x0=(-10, 10, 0.1))"
   ]
  },
  {
   "cell_type": "markdown",
   "metadata": {},
   "source": [
    "# Gradient descent"
   ]
  },
  {
   "cell_type": "code",
   "execution_count": 4,
   "metadata": {},
   "outputs": [
    {
     "data": {
      "application/vnd.jupyter.widget-view+json": {
       "model_id": "f038b5ffd520448286a9ed1b1027a537",
       "version_major": 2,
       "version_minor": 0
      },
      "text/plain": [
       "interactive(children=(FloatSlider(value=9.0, description='Starting x', max=10.0, min=-10.0, step=1.0), IntSlid…"
      ]
     },
     "metadata": {},
     "output_type": "display_data"
    },
    {
     "data": {
      "text/plain": [
       "<function __main__.plot_path.<locals>._plot_path(x0, steps, lr)>"
      ]
     },
     "execution_count": 4,
     "metadata": {},
     "output_type": "execute_result"
    }
   ],
   "source": [
    "from ipywidgets import interact, FloatSlider, IntSlider\n",
    "\n",
    "\n",
    "def ascent(f, x0, steps=5, lr=0.3):\n",
    "    result = [x0]\n",
    "\n",
    "    for _ in range(steps):\n",
    "        dfx0 = cdiff(f, x0)\n",
    "        x1 = x0 + dfx0 * lr\n",
    "        result.append(x1)\n",
    "        x0 = x1\n",
    "\n",
    "    return result\n",
    "\n",
    "\n",
    "def descent(f, x0, steps=5, lr=0.3):\n",
    "    result = [x0]\n",
    "\n",
    "    for _ in range(steps):\n",
    "        dfx0 = cdiff(f, x0)\n",
    "        x1 = x0 - dfx0 * lr\n",
    "        result.append(x1)\n",
    "        x0 = x1\n",
    "\n",
    "    return result\n",
    "\n",
    "\n",
    "def f(x):\n",
    "    return x**2\n",
    "\n",
    "\n",
    "def plot_path(f, path_builder):\n",
    "    def _plot_path(x0, steps, lr):\n",
    "        # Generate x values for plotting\n",
    "        x = np.linspace(-10, 10, 200)\n",
    "        y = f(x)\n",
    "\n",
    "        # Run the path\n",
    "        x_path = path_builder(f, x0, steps, lr)\n",
    "        # Build the y-values\n",
    "        x_path = np.array(x_path)\n",
    "        y_path = f(x_path)\n",
    "\n",
    "        # Create the figure and axis\n",
    "        _, ax = plt.subplots(figsize=(12, 6))\n",
    "\n",
    "        ax.plot(x_path, y_path, 'g.-', markersize=10, label='Path')\n",
    "\n",
    "        # Plot arrows to show direction\n",
    "        for i in range(len(x_path) - 1):\n",
    "            ax.annotate(\n",
    "                '',\n",
    "                xy=(x_path[i+1], y_path[i+1]),\n",
    "                xytext=(x_path[i], y_path[i]),\n",
    "                arrowprops=dict(facecolor='red', shrink=0.01, width=2),\n",
    "            )\n",
    "\n",
    "        ax.plot(x, y, 'b-', label='$f(x) = x^2$')\n",
    "\n",
    "        ax.set_xlabel('x')\n",
    "        ax.set_ylabel('f(x)')\n",
    "        ax.set_title('Path')\n",
    "        ax.legend()\n",
    "\n",
    "        plt.show()\n",
    "\n",
    "    return _plot_path\n",
    "\n",
    "\n",
    "# Create interactive plot\n",
    "interact(plot_path(f, descent), \n",
    "    x0=FloatSlider(min=-10, max=10, step=1, value=9, description='Starting x'),\n",
    "    steps=IntSlider(min=1, max=20, step=1, value=3, description='Steps'),\n",
    "    lr=FloatSlider(min=0.01, max=1, step=0.01, value=0.1, description='Learning Rate'),)"
   ]
  }
 ],
 "metadata": {
  "kernelspec": {
   "display_name": "base",
   "language": "python",
   "name": "python3"
  },
  "language_info": {
   "codemirror_mode": {
    "name": "ipython",
    "version": 3
   },
   "file_extension": ".py",
   "mimetype": "text/x-python",
   "name": "python",
   "nbconvert_exporter": "python",
   "pygments_lexer": "ipython3",
   "version": "3.12.4"
  }
 },
 "nbformat": 4,
 "nbformat_minor": 2
}
