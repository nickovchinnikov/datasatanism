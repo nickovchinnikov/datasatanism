{
 "cells": [
  {
   "cell_type": "markdown",
   "metadata": {},
   "source": [
    "# Numerical instability"
   ]
  },
  {
   "cell_type": "code",
   "execution_count": 1,
   "metadata": {},
   "outputs": [
    {
     "data": {
      "application/vnd.jupyter.widget-view+json": {
       "model_id": "4151fb35f7454a989ee965e8cb79ca12",
       "version_major": 2,
       "version_minor": 0
      },
      "text/plain": [
       "interactive(children=(FloatSlider(value=-0.1, description='Min', max=-0.01, min=-0.1, step=0.01), FloatSlider(…"
      ]
     },
     "metadata": {},
     "output_type": "display_data"
    },
    {
     "data": {
      "text/plain": [
       "<function __main__.plot_oscillating(min=-0.1, max=0.1, steps=500)>"
      ]
     },
     "execution_count": 1,
     "metadata": {},
     "output_type": "execute_result"
    }
   ],
   "source": [
    "import numpy as np\n",
    "import matplotlib.pyplot as plt\n",
    "from ipywidgets import interact, FloatSlider, IntSlider\n",
    "\n",
    "\n",
    "def oscillating(x):\n",
    "    \"\"\"Vector-valued function that oscillates rapidly as x approaches 0.\"\"\"\n",
    "    result = np.zeros_like(x)  # Initialize an array of zeros with the same shape as x\n",
    "    non_zero_mask = x != 0  # Mask for elements where x is not equal to 0\n",
    "    result[non_zero_mask] = np.sin(1 / x[non_zero_mask])  # Apply sin(1/x) where x != 0\n",
    "    return result\n",
    "\n",
    "\n",
    "def d_oscillating(x):\n",
    "    \"\"\"Vector-valued exact derivative of the oscillating function.\"\"\"\n",
    "    result = np.zeros_like(x)  # Initialize an array of zeros with the same shape as x\n",
    "    non_zero_mask = x != 0  # Mask for elements where x is not equal to 0\n",
    "    result[non_zero_mask] = -np.cos(1 / x[non_zero_mask]) / (x[non_zero_mask] ** 2)  # Derivative where x != 0\n",
    "    return result\n",
    "    \n",
    "\n",
    "def plot_oscillating(min=-0.1, max=0.1, steps=500):\n",
    "    # Generate values of x around 0, excluding 0 to avoid division by zero\n",
    "    x_values = np.linspace(min, max, steps)\n",
    "\n",
    "    y_values = oscillating(x_values)\n",
    "    dy_values = d_oscillating(x_values)\n",
    "\n",
    "    # Create plots\n",
    "    plt.figure(figsize=(14, 6))\n",
    "\n",
    "    # Plot oscillating function\n",
    "    plt.subplot(1, 2, 1)\n",
    "    plt.plot(x_values, y_values, label='Oscillating Function', color='blue')\n",
    "    plt.title('Oscillating Function $f(x) = sin(1/x)$')\n",
    "    plt.xlabel('x')\n",
    "    plt.ylabel('f(x)')\n",
    "    plt.grid(True)\n",
    "    plt.legend()\n",
    "\n",
    "    # Plot exact derivative\n",
    "    plt.subplot(1, 2, 2)\n",
    "    plt.plot(x_values, dy_values, label='Exact Derivative', color='orange')\n",
    "    plt.title(\"Exact Derivative $f'(x) = -\\\\frac{cos(1/x)}{x^2}$\")\n",
    "    plt.xlabel('x')\n",
    "    plt.ylabel(\"f'(x)\")\n",
    "    plt.grid(True)\n",
    "    plt.legend()\n",
    "\n",
    "    plt.tight_layout()\n",
    "    plt.show()\n",
    "\n",
    "interact(\n",
    "    plot_oscillating,\n",
    "    min=FloatSlider(min=-0.1, max=-0.01, step=0.01, value=-0.1, description='Min'),\n",
    "    max=FloatSlider(min=0.01, max=0.1, step=0.01, value=0.1, description='Max'),\n",
    "    steps=IntSlider(min=100, max=1000, step=100, value=500, description='Steps')\n",
    ")"
   ]
  },
  {
   "cell_type": "markdown",
   "metadata": {},
   "source": [
    "# Numerical Instability with the Central Difference"
   ]
  },
  {
   "cell_type": "code",
   "execution_count": 2,
   "metadata": {},
   "outputs": [
    {
     "name": "stdout",
     "output_type": "stream",
     "text": [
      "           x | Numerical Derivative |     Exact Derivative |            Abs Error\n",
      "--------------------------------------------------------------------------------\n",
      "         0.1 |            83.721363 |            83.907153 |             0.185790\n",
      "        0.01 |           555.383031 |         -8623.188723 |          9178.571754\n",
      "       0.001 |          -233.885903 |       -562379.076291 |        562145.190388\n",
      "      0.0001 |          -884.627816 |      95215536.825901 |      95216421.453717\n",
      "       1e-05 |          -736.979383 |    9993608074.376921 |    9993608811.356304\n"
     ]
    }
   ],
   "source": [
    "import numpy as np\n",
    "\n",
    "\n",
    "def cdiff(func, x, h=1e-3):\n",
    "    \"\"\"Centered difference approximation of the derivative.\"\"\"\n",
    "    return (func(x + h) - func(x - h)) / (2 * h)\n",
    "\n",
    "\n",
    "def oscillating(x):\n",
    "    \"\"\"Function that oscillates rapidly as x approaches 0.\"\"\"\n",
    "    return np.sin(1/x) if x != 0 else 0\n",
    "\n",
    "\n",
    "def d_oscillating(x):\n",
    "    \"\"\"Exact derivative of the oscillating function.\"\"\"\n",
    "    if x != 0:\n",
    "        return -np.cos(1/x) / (x**2)\n",
    "    else:\n",
    "        return 0  # Not defined, but can be treated as 0 for comparison\n",
    "\n",
    "\n",
    "# Test values close to 0\n",
    "x_values = [0.1, 0.01, 0.001, 0.0001, 0.00001]\n",
    "\n",
    "# Compute and compare the derivatives\n",
    "print(f\"{'x':>12} | {'Numerical Derivative':>20} | {'Exact Derivative':>20} | {'Abs Error':>20}\")\n",
    "print(\"-\" * 80)\n",
    "for x in x_values:\n",
    "    numerical_derivative = cdiff(oscillating, x)\n",
    "    exact_deriv = d_oscillating(x)\n",
    "    \n",
    "    # Calculate the relative error\n",
    "    if exact_deriv != 0:  # Avoid division by zero for relative error\n",
    "        abs_error = np.abs((numerical_derivative - exact_deriv))\n",
    "    else:\n",
    "        abs_error = np.nan  # Not defined for comparison\n",
    "\n",
    "    print(f\"{x:>12} | {numerical_derivative:>20.6f} | {exact_deriv:>20.6f} | {abs_error:>20.6f}\")\n"
   ]
  }
 ],
 "metadata": {
  "kernelspec": {
   "display_name": "base",
   "language": "python",
   "name": "python3"
  },
  "language_info": {
   "codemirror_mode": {
    "name": "ipython",
    "version": 3
   },
   "file_extension": ".py",
   "mimetype": "text/x-python",
   "name": "python",
   "nbconvert_exporter": "python",
   "pygments_lexer": "ipython3",
   "version": "3.12.4"
  }
 },
 "nbformat": 4,
 "nbformat_minor": 2
}
